{
 "metadata": {
  "language_info": {
   "codemirror_mode": {
    "name": "ipython",
    "version": 3
   },
   "file_extension": ".py",
   "mimetype": "text/x-python",
   "name": "python",
   "nbconvert_exporter": "python",
   "pygments_lexer": "ipython3",
   "version": "3.8.5-final"
  },
  "orig_nbformat": 2,
  "kernelspec": {
   "name": "python3",
   "display_name": "Python 3",
   "language": "python"
  }
 },
 "nbformat": 4,
 "nbformat_minor": 2,
 "cells": [
  {
   "cell_type": "code",
   "execution_count": 28,
   "metadata": {},
   "outputs": [
    {
     "output_type": "execute_result",
     "data": {
      "text/plain": [
       "878"
      ]
     },
     "metadata": {},
     "execution_count": 28
    }
   ],
   "source": [
    "# 1588. Sum of All Odd Length Subarrays\n",
    "# Given an array of positive integers arr, calculate the sum of all possible odd-length subarrays.\n",
    "\n",
    "# A subarray is a contiguous subsequence of the array.\n",
    "\n",
    "# Return the sum of all odd-length subarrays of arr.\n",
    "\n",
    "# Input: arr = [1,4,2,5,3]\n",
    "# Output: 58\n",
    "# Explanation: The odd-length subarrays of arr and their sums are:\n",
    "# [1] = 1\n",
    "# [4] = 4\n",
    "# [2] = 2\n",
    "# [5] = 5\n",
    "# [3] = 3\n",
    "# [1,4,2] = 7\n",
    "# [4,2,5] = 11\n",
    "# [2,5,3] = 10\n",
    "# [1,4,2,5,3] = 15\n",
    "# If we add all these together we get 1 + 4 + 2 + 5 + 3 + 7 + 11 + 10 + 15 = 58\n",
    "\n",
    "# def sumOddlengthSubArray(arr):\n",
    "#     temp = {}\n",
    "#     t = 0\n",
    "#     c = 0\n",
    "#     l = 0\n",
    "#     single = 0\n",
    "#     for r in range(len(arr)):\n",
    "#         single += arr[r]\n",
    "#         c += arr[r]\n",
    "#         temp[r] = arr[r]\n",
    "#         if len(temp) == 3 and len(temp) != len(arr):\n",
    "#             t += c\n",
    "#             c -= arr[l]\n",
    "#             del temp[l]\n",
    "#             l += 1\n",
    "#     if len(arr) % 2 == 1:\n",
    "#         t += sum(arr)\n",
    "#     t += single\n",
    "#     return t\n",
    "\n",
    "# def sumOddlengthSubArray(arr):\n",
    "#     ws = 0\n",
    "#     t = 0\n",
    "#     c = 0\n",
    "#     s = 0\n",
    "#     if len(arr) != 3 and len(arr) % 2 == 1:\n",
    "#         t += sum(arr)\n",
    "#     for we in range(len(arr)):\n",
    "#         c += arr[we]\n",
    "#         s += arr[we]\n",
    "#         if we >= 3 - 1:\n",
    "#             t += c\n",
    "#             c -= arr[ws]\n",
    "#             ws += 1\n",
    "#     return t + s\n",
    "\n",
    "# [6,9,14,5,3,8,7,12,13,1] = 878\n",
    "\n",
    "def sumAllOddlengthSubArrays(arr):\n",
    "    arr_len = len(arr)\n",
    "    if arr_len < 2:\n",
    "        return sum(arr)\n",
    "    all_odds_container = []\n",
    "    odd_number = 1\n",
    "    while odd_number <= arr_len:\n",
    "        if arr_len // odd_number != 0:\n",
    "            all_odds_container.append(odd_number)\n",
    "        odd_number += 2\n",
    "    answer = 0\n",
    "    while all_odds_container != []:\n",
    "        max_length = all_odds_container.pop()\n",
    "        current_total = 0\n",
    "        window_start = 0\n",
    "        for window_end in range(arr_len):\n",
    "            current_total += arr[window_end]\n",
    "            if window_end + 1 >= max_length:\n",
    "                answer += current_total\n",
    "                current_total -= arr[window_start]\n",
    "                window_start += 1\n",
    "    return answer\n",
    "    \n",
    "\n",
    "\n",
    "sumAllOddlengthSubArrays([6,9,14,5,3,8,7,12,13,1])\n",
    "\n"
   ]
  },
  {
   "cell_type": "code",
   "execution_count": 18,
   "metadata": {},
   "outputs": [
    {
     "output_type": "execute_result",
     "data": {
      "text/plain": [
       "0"
      ]
     },
     "metadata": {},
     "execution_count": 18
    }
   ],
   "source": [
    "3 // 5"
   ]
  }
 ]
}